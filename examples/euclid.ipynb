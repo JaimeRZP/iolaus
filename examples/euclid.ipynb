{
 "cells": [
  {
   "cell_type": "markdown",
   "id": "149c9007-9c32-433f-b095-7999f7feb926",
   "metadata": {},
   "source": [
    "# Deconvolving the Mixing Matrix\n",
    "\n",
    "The goal of this notebook is showcase different ways in which masking can be taken into account when performing 2-point statistics on partial sky maps.\n",
    "\n",
    "We consider four different methods which we can classify along two axis:\n",
    "- Is the effect forward modelled in the theory or removed in the data?\n",
    "- Are we working in Fourier or real space?\n",
    "\n",
    "The four methods are:\n",
    "- **Forward method** (Fourier / Forward): In this method we multiply the theory full-sky $C_\\ell$ by the mixing matrix.\n",
    "- **Master method** (Fourier / Forward & Invert): In this method we first multiply the theory full-sky $C_\\ell$ by the mixing matrix. Then, we bin the resulting $C_\\ell$. Finally, we multiply by the binned inverse mixing matrix.\n",
    "- **Direct inversion** (Fourier / Invert): In this method we multiply the data by the inverse mixing matrix and bin the resulting $C_\\ell$.\n",
    "- **Polspice**: (Real / Invert): In this method we transform the $C_\\ell$ to real-space angular correlation functions and divide them by the mask angular correlation function. This step has to be done carefully to account for the mixing between E and B modes. Finally we transform back to $C_\\ell$.\n"
   ]
  },
  {
   "cell_type": "markdown",
   "id": "20c7c282",
   "metadata": {},
   "source": [
    "## Dependencies"
   ]
  },
  {
   "cell_type": "code",
   "execution_count": 1,
   "id": "ac8ddbd7-f523-4569-b5a7-19b5207e35ff",
   "metadata": {
    "tags": []
   },
   "outputs": [],
   "source": [
    "import camb\n",
    "import iolaus\n",
    "import heracles\n",
    "import numpy as np\n",
    "import healpy as hp\n",
    "import matplotlib as mpl\n",
    "import matplotlib.pyplot as plt\n",
    "from heracles.twopoint import mixing_matrices"
   ]
  },
  {
   "cell_type": "markdown",
   "id": "9b4826f2",
   "metadata": {},
   "source": [
    "## Make data"
   ]
  },
  {
   "cell_type": "code",
   "execution_count": 2,
   "id": "e27232cf-fa87-4df6-a8ec-eb0269b3cdeb",
   "metadata": {
    "tags": []
   },
   "outputs": [],
   "source": [
    "nside = 1024\n",
    "lmax = 1000\n",
    "bin_num = 15\n",
    "l = np.arange(lmax+1)\n",
    "l2 = np.arange(2*lmax+1)"
   ]
  },
  {
   "cell_type": "code",
   "execution_count": 3,
   "id": "8c1ef13e",
   "metadata": {},
   "outputs": [],
   "source": [
    "_eu_data_maps = heracles.read_maps(\"./data/euclid_data_maps.fits\")\n",
    "#vis_maps = heracles.read_maps(\"./data/euclid_visibility.fits\")\n",
    "#jkmap = hp.read_map(\"./data/euclid_jkmap_njk_5.fits\")\n",
    "#]mask = np.copy(jkmap)\n",
    "#mask[mask != 0] = (\n",
    "#    mask[mask != 0] / mask[mask != 0]\n",
    "#)"
   ]
  },
  {
   "cell_type": "code",
   "execution_count": 4,
   "id": "dc77d1c7",
   "metadata": {},
   "outputs": [],
   "source": [
    "eu_data_maps = {}\n",
    "eu_data_maps[('POS', 1)] = _eu_data_maps['P,1']\n",
    "eu_data_maps[('SHE', 1)] = _eu_data_maps['G,1']"
   ]
  },
  {
   "cell_type": "code",
   "execution_count": 5,
   "id": "e34f6f9e",
   "metadata": {},
   "outputs": [],
   "source": [
    "mask = iolaus.make_mask(nside, mode=\"patch\")\n",
    "mask_cls = iolaus.mask2cls(mask, nside, lmax)"
   ]
  },
  {
   "cell_type": "code",
   "execution_count": 7,
   "id": "f9f26258",
   "metadata": {},
   "outputs": [],
   "source": [
    "z = np.linspace(0, 3, 300)\n",
    "pars = iolaus.get_pars()\n",
    "z, nz = iolaus.get_nz(z)\n",
    "z, bz = iolaus.get_bz(z)\n",
    "sources = iolaus.get_sources(z, nz, bz)\n",
    "theory_cls = iolaus.get_theory_cls(l, pars, sources)"
   ]
  },
  {
   "cell_type": "code",
   "execution_count": 8,
   "id": "34322c14",
   "metadata": {},
   "outputs": [
    {
     "name": "stdout",
     "output_type": "stream",
     "text": [
      "('POS', 'POS', 1, 1) (1001,)\n",
      "('POS', 'SHE', 1, 1) (2, 1001)\n",
      "('SHE', 'SHE', 1, 1) (3, 1001)\n"
     ]
    }
   ],
   "source": [
    "for key in list(theory_cls.keys()):\n",
    "    print(key, theory_cls[key].shape)"
   ]
  },
  {
   "cell_type": "code",
   "execution_count": 21,
   "id": "9830a339",
   "metadata": {},
   "outputs": [],
   "source": [
    "theory_map = iolaus.theory2map(theory_cls, nside)\n",
    "mask = iolaus.make_mask(nside, mode=\"patch\")\n",
    "data_map = iolaus.apply_mask(theory_map, mask)\n",
    "eu_data_cls = iolaus.data2cls(eu_data_maps, nside, lmax)\n",
    "data_cls = iolaus.data2cls(data_map, nside, lmax)"
   ]
  },
  {
   "cell_type": "code",
   "execution_count": 25,
   "id": "b587b62b",
   "metadata": {},
   "outputs": [
    {
     "name": "stdout",
     "output_type": "stream",
     "text": [
      "True\n",
      "True\n",
      "True\n"
     ]
    }
   ],
   "source": [
    "print(list(data_map.keys()) == list(eu_data_maps.keys()))\n",
    "print(data_map[('POS', 1)].shape == eu_data_maps[('POS', 1)].shape)\n",
    "print(data_map[('SHE', 1)].shape == eu_data_maps[('SHE', 1)].shape)"
   ]
  },
  {
   "cell_type": "code",
   "execution_count": 27,
   "id": "c5c0dae5",
   "metadata": {},
   "outputs": [
    {
     "data": {
      "text/plain": [
       "{('POS', 1): array([-0., -0.,  0., ...,  0.,  0.,  0.]),\n",
       " ('SHE',\n",
       "  1): array([[-0.,  0., -0., ...,  0.,  0.,  0.],\n",
       "        [ 0., -0.,  0., ...,  0.,  0.,  0.]])}"
      ]
     },
     "execution_count": 27,
     "metadata": {},
     "output_type": "execute_result"
    }
   ],
   "source": [
    "eu_masked_maps"
   ]
  },
  {
   "cell_type": "code",
   "execution_count": 10,
   "id": "46203b83",
   "metadata": {},
   "outputs": [
    {
     "name": "stdout",
     "output_type": "stream",
     "text": [
      "('POS', 1) (12582912,)\n",
      "('SHE', 1) (2, 12582912)\n"
     ]
    }
   ],
   "source": [
    "for key in list(eu_data_maps.keys()):\n",
    "    print(key, eu_data_maps[key].shape)"
   ]
  },
  {
   "cell_type": "code",
   "execution_count": 11,
   "id": "e8e83fbf",
   "metadata": {},
   "outputs": [
    {
     "name": "stdout",
     "output_type": "stream",
     "text": [
      "('POS', 1) (12582912,)\n",
      "('SHE', 1) (2, 12582912)\n"
     ]
    }
   ],
   "source": [
    "for key in list(data_map.keys()):\n",
    "    print(key, data_map[key].shape)"
   ]
  },
  {
   "cell_type": "code",
   "execution_count": 12,
   "id": "9cb9640b",
   "metadata": {},
   "outputs": [
    {
     "name": "stdout",
     "output_type": "stream",
     "text": [
      "('VIS', 1) (12582912,)\n",
      "('WHT', 1) (12582912,)\n"
     ]
    }
   ],
   "source": [
    "for key in list(mask.keys()):\n",
    "    print(key, mask[key].shape)"
   ]
  },
  {
   "cell_type": "code",
   "execution_count": 13,
   "id": "1fba3a93",
   "metadata": {},
   "outputs": [
    {
     "name": "stdout",
     "output_type": "stream",
     "text": [
      "('POS', 'POS', 1, 1) (1001,)\n",
      "('POS', 'SHE', 1, 1) (2, 1001)\n",
      "('SHE', 'SHE', 1, 1) (2, 2, 1001)\n"
     ]
    }
   ],
   "source": [
    "for key in list(data_cls.keys()):\n",
    "    print(key, data_cls[key].shape)"
   ]
  },
  {
   "cell_type": "code",
   "execution_count": 14,
   "id": "ad76634e",
   "metadata": {},
   "outputs": [
    {
     "data": {
      "text/plain": [
       "Result([[[ 7.31834790e-09,  7.85402628e-10,  2.41882317e-09, ...,\n",
       "           2.10637848e-11,  1.81222672e-11,  1.84911719e-11],\n",
       "         [-9.76458348e-15, -3.52111049e-10, -1.62481528e-09, ...,\n",
       "          -1.69897795e-15,  4.31061328e-14, -9.19327226e-14]],\n",
       "\n",
       "        [[-9.76458348e-15, -3.52111049e-10, -1.62481528e-09, ...,\n",
       "          -1.69897795e-15,  4.31061328e-14, -9.19327226e-14],\n",
       "         [ 1.30284993e-20,  2.85275201e-09,  4.50656659e-09, ...,\n",
       "           2.02937880e-11,  2.01678722e-11,  1.07590692e-11]]])"
      ]
     },
     "execution_count": 14,
     "metadata": {},
     "output_type": "execute_result"
    }
   ],
   "source": [
    "data_cls[('SHE', 'SHE', 1, 1)]"
   ]
  },
  {
   "cell_type": "code",
   "execution_count": null,
   "id": "190986d4",
   "metadata": {},
   "outputs": [
    {
     "data": {
      "image/png": "[encoded data removed]",
      "text/plain": [
       "<Figure size 2000x700 with 6 Axes>"
      ]
     },
     "metadata": {},
     "output_type": "display_data"
    }
   ],
   "source": [
    "fig, ax = plt.subplots(3, figsize=(20, 7))\n",
    "fig.tight_layout()\n",
    "plt.sca(ax[0])\n",
    "hp.mollview(eu_data_maps[('POS', 1)], cmap='binary', title='T', hold=True)\n",
    "plt.sca(ax[1])\n",
    "hp.mollview(eu_data_maps[('SHE', 1)][0], cmap='RdGy', title='Q', hold=True)\n",
    "plt.sca(ax[2])\n",
    "hp.mollview(eu_data_maps[('SHE', 1)][1], cmap='RdGy', title='U', hold=True)\n",
    "plt.show()"
   ]
  },
  {
   "cell_type": "code",
   "execution_count": 15,
   "id": "5c4d6bd1",
   "metadata": {},
   "outputs": [
    {
     "data": {
      "image/png": "[encoded data removed]",
      "text/plain": [
       "<Figure size 2000x700 with 6 Axes>"
      ]
     },
     "metadata": {},
     "output_type": "display_data"
    }
   ],
   "source": [
    "fig, ax = plt.subplots(3, figsize=(20, 7))\n",
    "fig.tight_layout()\n",
    "plt.sca(ax[0])\n",
    "hp.mollview(data_map[('POS', 1)], cmap='binary', title='T', hold=True)\n",
    "plt.sca(ax[1])\n",
    "hp.mollview(data_map[('SHE', 1)][0], cmap='RdGy', title='Q', hold=True)\n",
    "plt.sca(ax[2])\n",
    "hp.mollview(data_map[('SHE', 1)][1], cmap='RdGy', title='U', hold=True)\n",
    "plt.show()"
   ]
  },
  {
   "cell_type": "markdown",
   "id": "b0f7f40c",
   "metadata": {},
   "source": [
    "### Binning"
   ]
  },
  {
   "cell_type": "code",
   "execution_count": 16,
   "id": "3bcfe821",
   "metadata": {},
   "outputs": [],
   "source": [
    "#bin_edges = np.logspace(np.log10(10), np.log10(lmax+1), bin_num+1).astype(int)\n",
    "bin_edges = np.linspace(10, lmax+1, bin_num+1).astype(int)\n",
    "B = np.diag(np.ones(lmax+1))\n",
    "B = iolaus.bin2pt(B, bin_edges, 'B')\n",
    "B = B['B']\n",
    "\n",
    "n, m = B.shape\n",
    "B2 = np.zeros((n, 2*lmax+1))\n",
    "B2[:, :lmax+1] = B"
   ]
  },
  {
   "cell_type": "code",
   "execution_count": 17,
   "id": "ebf365ca",
   "metadata": {},
   "outputs": [],
   "source": [
    "# Binned ls\n",
    "q = B @ l "
   ]
  },
  {
   "cell_type": "markdown",
   "id": "b936f8a0",
   "metadata": {},
   "source": [
    "### Mixing Matrix"
   ]
  },
  {
   "cell_type": "code",
   "execution_count": 18,
   "id": "c09a41ed",
   "metadata": {},
   "outputs": [],
   "source": [
    "mapper = heracles.healpy.HealpixMapper(nside, lmax)\n",
    "fields_data = iolaus.make_fields(mapper, mode='data')\n",
    "mms = mixing_matrices(fields_data, mask_cls,\n",
    "    l3max=2*lmax+lmax, l2max=2*lmax, l1max=lmax)"
   ]
  },
  {
   "cell_type": "code",
   "execution_count": 19,
   "id": "34336eee",
   "metadata": {},
   "outputs": [
    {
     "data": {
      "text/plain": [
       "[('POS', 'POS', 1, 1), ('POS', 'SHE', 1, 1), ('SHE', 'SHE', 1, 1)]"
      ]
     },
     "execution_count": 19,
     "metadata": {},
     "output_type": "execute_result"
    }
   ],
   "source": [
    "list(mms.keys())"
   ]
  },
  {
   "cell_type": "markdown",
   "id": "d87cbdb0",
   "metadata": {},
   "source": [
    "### Plotting"
   ]
  },
  {
   "cell_type": "code",
   "execution_count": 20,
   "id": "f7a521c7",
   "metadata": {},
   "outputs": [
    {
     "ename": "IndexError",
     "evalue": "index 2 is out of bounds for axis 1 with size 2",
     "output_type": "error",
     "traceback": [
      "\u001b[0;31m---------------------------------------------------------------------------\u001b[0m",
      "\u001b[0;31mIndexError\u001b[0m                                Traceback (most recent call last)",
      "Cell \u001b[0;32mIn[20], line 2\u001b[0m\n\u001b[1;32m      1\u001b[0m compsep_theory_cls \u001b[38;5;241m=\u001b[39m iolaus\u001b[38;5;241m.\u001b[39mcompsep_cls(theory_cls)\n\u001b[0;32m----> 2\u001b[0m compsep_data_cls \u001b[38;5;241m=\u001b[39m \u001b[43miolaus\u001b[49m\u001b[38;5;241;43m.\u001b[39;49m\u001b[43mcompsep_cls\u001b[49m\u001b[43m(\u001b[49m\u001b[43mdata_cls\u001b[49m\u001b[43m)\u001b[49m\n",
      "File \u001b[0;32m~/anaconda3/envs/gitd/lib/python3.12/site-packages/iolaus/utils.py:180\u001b[0m, in \u001b[0;36mcompsep_cls\u001b[0;34m(Cls)\u001b[0m\n\u001b[1;32m    178\u001b[0m     Cls_compsep[(\u001b[38;5;124m\"\u001b[39m\u001b[38;5;124mG_E\u001b[39m\u001b[38;5;124m\"\u001b[39m, \u001b[38;5;124m\"\u001b[39m\u001b[38;5;124mG_E\u001b[39m\u001b[38;5;124m\"\u001b[39m, b1, b2)] \u001b[38;5;241m=\u001b[39m cl[\u001b[38;5;241m.\u001b[39m\u001b[38;5;241m.\u001b[39m\u001b[38;5;241m.\u001b[39m, \u001b[38;5;241m0\u001b[39m, :]\n\u001b[1;32m    179\u001b[0m     Cls_compsep[(\u001b[38;5;124m\"\u001b[39m\u001b[38;5;124mG_B\u001b[39m\u001b[38;5;124m\"\u001b[39m, \u001b[38;5;124m\"\u001b[39m\u001b[38;5;124mG_B\u001b[39m\u001b[38;5;124m\"\u001b[39m, b1, b2)] \u001b[38;5;241m=\u001b[39m cl[\u001b[38;5;241m.\u001b[39m\u001b[38;5;241m.\u001b[39m\u001b[38;5;241m.\u001b[39m, \u001b[38;5;241m1\u001b[39m, :]\n\u001b[0;32m--> 180\u001b[0m     Cls_compsep[(\u001b[38;5;124m\"\u001b[39m\u001b[38;5;124mG_E\u001b[39m\u001b[38;5;124m\"\u001b[39m, \u001b[38;5;124m\"\u001b[39m\u001b[38;5;124mG_B\u001b[39m\u001b[38;5;124m\"\u001b[39m, b1, b2)] \u001b[38;5;241m=\u001b[39m \u001b[43mcl\u001b[49m\u001b[43m[\u001b[49m\u001b[38;5;241;43m.\u001b[39;49m\u001b[38;5;241;43m.\u001b[39;49m\u001b[38;5;241;43m.\u001b[39;49m\u001b[43m,\u001b[49m\u001b[43m \u001b[49m\u001b[38;5;241;43m2\u001b[39;49m\u001b[43m,\u001b[49m\u001b[43m \u001b[49m\u001b[43m:\u001b[49m\u001b[43m]\u001b[49m\n\u001b[1;32m    181\u001b[0m \u001b[38;5;28;01melif\u001b[39;00m t1 \u001b[38;5;241m==\u001b[39m t2 \u001b[38;5;241m==\u001b[39m \u001b[38;5;124m\"\u001b[39m\u001b[38;5;124mSHE\u001b[39m\u001b[38;5;124m\"\u001b[39m \u001b[38;5;129;01mand\u001b[39;00m b1 \u001b[38;5;241m!=\u001b[39m b2:\n\u001b[1;32m    182\u001b[0m     Cls_compsep[(\u001b[38;5;124m\"\u001b[39m\u001b[38;5;124mG_E\u001b[39m\u001b[38;5;124m\"\u001b[39m, \u001b[38;5;124m\"\u001b[39m\u001b[38;5;124mG_E\u001b[39m\u001b[38;5;124m\"\u001b[39m, b1, b2)] \u001b[38;5;241m=\u001b[39m cl[\u001b[38;5;241m.\u001b[39m\u001b[38;5;241m.\u001b[39m\u001b[38;5;241m.\u001b[39m, \u001b[38;5;241m0\u001b[39m, :]\n",
      "\u001b[0;31mIndexError\u001b[0m: index 2 is out of bounds for axis 1 with size 2"
     ]
    }
   ],
   "source": [
    "compsep_theory_cls = iolaus.compsep_cls(theory_cls)\n",
    "compsep_data_cls = iolaus.compsep_cls(data_cls)"
   ]
  },
  {
   "cell_type": "code",
   "execution_count": 19,
   "id": "c2a71f8e",
   "metadata": {},
   "outputs": [
    {
     "name": "stdout",
     "output_type": "stream",
     "text": [
      "['POS' 'SHE']\n",
      "[('POS', 'POS', 1, 1), ('POS', 'SHE', 1, 1), ('SHE', 'SHE', 1, 1)]\n"
     ]
    }
   ],
   "source": [
    "fields_a = np.unique([i[0] for i in mms.keys()])\n",
    "fields_b = np.unique([i[1] for i in mms.keys()])\n",
    "print(fields_a)\n",
    "print(list(mms.keys()))"
   ]
  },
  {
   "cell_type": "code",
   "execution_count": 20,
   "id": "6da96836",
   "metadata": {},
   "outputs": [
    {
     "data": {
      "image/png": "[encoded data removed]",
      "text/plain": [
       "<Figure size 1500x1500 with 9 Axes>"
      ]
     },
     "metadata": {},
     "output_type": "display_data"
    }
   ],
   "source": [
    "figure, axis = plt.subplots(3, 3, figsize=(5*3, 5*3))\n",
    "for i, s1 in enumerate(fields_a):\n",
    "    for j, s2 in enumerate(fields_b):\n",
    "        proposed_key = (s1, s2, 0, 0)\n",
    "        if proposed_key in list(mms.keys()):\n",
    "            print(proposed_key) \n",
    "            t = theory_cls[proposed_key]\n",
    "            d = data_cls[proposed_key]\n",
    "\n",
    "            axis[i, j].plot(l,  d, label=\"Data Cls\")\n",
    "            axis[i, j].plot(l2, t, label=\"Theory Cls\")\n",
    "            axis[i, j].plot(q,  B @ d, \"bo-\", label=\"Binned Data Cls\")\n",
    "            axis[i, j].set_xscale('log')\n",
    "            axis[i, j].set_yscale('log')\n",
    "            axis[i, j].set_title(f\"{s1}x{s2}\")\n",
    "            axis[i, j].set_xlabel(r\"$\\ell$\")\n",
    "            axis[i, j].set_ylabel(r\"$C_\\ell$\")\n",
    "            axis[i, j].grid()\n",
    "            axis[i, j].set_xlim(2, 2*lmax)\n",
    "            axis[i, j].legend()\n",
    "        else:\n",
    "            axis[i, j].axis('off')\n",
    "plt.show()"
   ]
  },
  {
   "cell_type": "markdown",
   "id": "670c1080-e0f2-49aa-b78f-0750846b0e2d",
   "metadata": {},
   "source": [
    "## Forward Model \n",
    "\n",
    "In Fourier space, we can relate an observed angular power spectrum $\\tilde{C}_\\ell$ to a theoretical full-sky angular power spectrum $C_\\ell$ through the mixing matrix $M$, a matrix that contains the effect of the mask:\n",
    "$$ \\tilde{C}_\\ell = M C_\\ell $$\n",
    "\n",
    "We find better results by considering a non-square square matrix such that the theory $C_\\ell$'s are evaluated up to $2\\ell_{max}$, where $\\ell_{max}$ is the maximum multipole considered for the observed $\\tilde{C}_\\ell$.\n",
    "\n",
    "We can modify the previous fudamental relation to express all Fourier space methods by considering a general matrix, A, such that:\n",
    "$$ A \\tilde{C}_\\ell = A M C_\\ell $$\n",
    "\n",
    "Becuase we are often interested in the binned angular power spectrum, in the forward method $A = B$, where $B$ is the binning matrix.\n",
    "\n",
    "To account for the E-B mixing, we compute the parial sky $C_\\ell$  as:\n",
    "$$ \\tilde{C}_\\ell^{EE} = B(M^{EE} C_\\ell^{BB} + M^{BB} C_\\ell^{EE}) \\\\\n",
    "   \\tilde{C}_\\ell^{BB} = B(M^{EE} C_\\ell^{EE} + M^{BB} C_\\ell^{BB}) \n",
    "$$\n",
    "\n",
    "Note that in our case $C_\\ell^{BB} = 0$ by definition."
   ]
  },
  {
   "cell_type": "code",
   "execution_count": 21,
   "id": "c7cb1731-324d-4292-8272-9572716203a5",
   "metadata": {
    "tags": []
   },
   "outputs": [
    {
     "ename": "KeyError",
     "evalue": "('G_E', 'G_E', 0, 0)",
     "output_type": "error",
     "traceback": [
      "\u001b[0;31m---------------------------------------------------------------------------\u001b[0m",
      "\u001b[0;31mKeyError\u001b[0m                                  Traceback (most recent call last)",
      "Cell \u001b[0;32mIn[21], line 4\u001b[0m\n\u001b[1;32m      1\u001b[0m \u001b[38;5;28;01mfrom\u001b[39;00m \u001b[38;5;21;01mheracles\u001b[39;00m\u001b[38;5;21;01m.\u001b[39;00m\u001b[38;5;21;01mcore\u001b[39;00m \u001b[38;5;28;01mimport\u001b[39;00m TocDict\n\u001b[1;32m      3\u001b[0m forward_cls \u001b[38;5;241m=\u001b[39m {}\n\u001b[0;32m----> 4\u001b[0m forward_cls[(\u001b[38;5;124m'\u001b[39m\u001b[38;5;124mG_B\u001b[39m\u001b[38;5;124m'\u001b[39m, \u001b[38;5;124m'\u001b[39m\u001b[38;5;124mG_B\u001b[39m\u001b[38;5;124m'\u001b[39m, \u001b[38;5;241m0\u001b[39m, \u001b[38;5;241m0\u001b[39m)] \u001b[38;5;241m=\u001b[39m \u001b[43mmms\u001b[49m\u001b[43m[\u001b[49m\u001b[43m(\u001b[49m\u001b[38;5;124;43m'\u001b[39;49m\u001b[38;5;124;43mG_E\u001b[39;49m\u001b[38;5;124;43m'\u001b[39;49m\u001b[43m,\u001b[49m\u001b[43m \u001b[49m\u001b[38;5;124;43m'\u001b[39;49m\u001b[38;5;124;43mG_E\u001b[39;49m\u001b[38;5;124;43m'\u001b[39;49m\u001b[43m,\u001b[49m\u001b[43m \u001b[49m\u001b[38;5;241;43m0\u001b[39;49m\u001b[43m,\u001b[49m\u001b[43m \u001b[49m\u001b[38;5;241;43m0\u001b[39;49m\u001b[43m)\u001b[49m\u001b[43m]\u001b[49m \u001b[38;5;241m@\u001b[39m theory_cls[(\u001b[38;5;124m'\u001b[39m\u001b[38;5;124mG_B\u001b[39m\u001b[38;5;124m'\u001b[39m, \u001b[38;5;124m'\u001b[39m\u001b[38;5;124mG_B\u001b[39m\u001b[38;5;124m'\u001b[39m, \u001b[38;5;241m0\u001b[39m, \u001b[38;5;241m0\u001b[39m)] \u001b[38;5;241m+\u001b[39m mms[(\u001b[38;5;124m'\u001b[39m\u001b[38;5;124mG_B\u001b[39m\u001b[38;5;124m'\u001b[39m, \u001b[38;5;124m'\u001b[39m\u001b[38;5;124mG_B\u001b[39m\u001b[38;5;124m'\u001b[39m, \u001b[38;5;241m0\u001b[39m, \u001b[38;5;241m0\u001b[39m)] \u001b[38;5;241m@\u001b[39m theory_cls[(\u001b[38;5;124m'\u001b[39m\u001b[38;5;124mG_E\u001b[39m\u001b[38;5;124m'\u001b[39m, \u001b[38;5;124m'\u001b[39m\u001b[38;5;124mG_E\u001b[39m\u001b[38;5;124m'\u001b[39m, \u001b[38;5;241m0\u001b[39m, \u001b[38;5;241m0\u001b[39m)]\n\u001b[1;32m      5\u001b[0m forward_cls[(\u001b[38;5;124m'\u001b[39m\u001b[38;5;124mG_E\u001b[39m\u001b[38;5;124m'\u001b[39m, \u001b[38;5;124m'\u001b[39m\u001b[38;5;124mG_E\u001b[39m\u001b[38;5;124m'\u001b[39m, \u001b[38;5;241m0\u001b[39m, \u001b[38;5;241m0\u001b[39m)] \u001b[38;5;241m=\u001b[39m mms[(\u001b[38;5;124m'\u001b[39m\u001b[38;5;124mG_E\u001b[39m\u001b[38;5;124m'\u001b[39m, \u001b[38;5;124m'\u001b[39m\u001b[38;5;124mG_E\u001b[39m\u001b[38;5;124m'\u001b[39m, \u001b[38;5;241m0\u001b[39m, \u001b[38;5;241m0\u001b[39m)] \u001b[38;5;241m@\u001b[39m theory_cls[(\u001b[38;5;124m'\u001b[39m\u001b[38;5;124mG_E\u001b[39m\u001b[38;5;124m'\u001b[39m, \u001b[38;5;124m'\u001b[39m\u001b[38;5;124mG_E\u001b[39m\u001b[38;5;124m'\u001b[39m, \u001b[38;5;241m0\u001b[39m, \u001b[38;5;241m0\u001b[39m)] \u001b[38;5;241m+\u001b[39m mms[(\u001b[38;5;124m'\u001b[39m\u001b[38;5;124mG_B\u001b[39m\u001b[38;5;124m'\u001b[39m, \u001b[38;5;124m'\u001b[39m\u001b[38;5;124mG_B\u001b[39m\u001b[38;5;124m'\u001b[39m, \u001b[38;5;241m0\u001b[39m, \u001b[38;5;241m0\u001b[39m)] \u001b[38;5;241m@\u001b[39m theory_cls[(\u001b[38;5;124m'\u001b[39m\u001b[38;5;124mG_B\u001b[39m\u001b[38;5;124m'\u001b[39m, \u001b[38;5;124m'\u001b[39m\u001b[38;5;124mG_B\u001b[39m\u001b[38;5;124m'\u001b[39m, \u001b[38;5;241m0\u001b[39m, \u001b[38;5;241m0\u001b[39m)]\n\u001b[1;32m      6\u001b[0m forward_cls[(\u001b[38;5;124m'\u001b[39m\u001b[38;5;124mP\u001b[39m\u001b[38;5;124m'\u001b[39m, \u001b[38;5;124m'\u001b[39m\u001b[38;5;124mP\u001b[39m\u001b[38;5;124m'\u001b[39m, \u001b[38;5;241m0\u001b[39m, \u001b[38;5;241m0\u001b[39m)] \u001b[38;5;241m=\u001b[39m mms[(\u001b[38;5;124m'\u001b[39m\u001b[38;5;124mP\u001b[39m\u001b[38;5;124m'\u001b[39m, \u001b[38;5;124m'\u001b[39m\u001b[38;5;124mP\u001b[39m\u001b[38;5;124m'\u001b[39m, \u001b[38;5;241m0\u001b[39m, \u001b[38;5;241m0\u001b[39m)] \u001b[38;5;241m@\u001b[39m theory_cls[(\u001b[38;5;124m'\u001b[39m\u001b[38;5;124mP\u001b[39m\u001b[38;5;124m'\u001b[39m, \u001b[38;5;124m'\u001b[39m\u001b[38;5;124mP\u001b[39m\u001b[38;5;124m'\u001b[39m, \u001b[38;5;241m0\u001b[39m, \u001b[38;5;241m0\u001b[39m)]\n",
      "File \u001b[0;32m~/anaconda3/envs/gitd/lib/python3.12/site-packages/heracles/core.py:98\u001b[0m, in \u001b[0;36mTocDict.__getitem__\u001b[0;34m(self, pattern)\u001b[0m\n\u001b[1;32m     96\u001b[0m \u001b[38;5;66;03m# nothing matched the pattern, treat as usual dict lookup error\u001b[39;00m\n\u001b[1;32m     97\u001b[0m \u001b[38;5;28;01mif\u001b[39;00m \u001b[38;5;129;01mnot\u001b[39;00m found:\n\u001b[0;32m---> 98\u001b[0m     \u001b[38;5;28;01mraise\u001b[39;00m \u001b[38;5;167;01mKeyError\u001b[39;00m(pattern)\n\u001b[1;32m     99\u001b[0m \u001b[38;5;28;01mreturn\u001b[39;00m found\n",
      "\u001b[0;31mKeyError\u001b[0m: ('G_E', 'G_E', 0, 0)"
     ]
    }
   ],
   "source": [
    "from heracles.core import TocDict\n",
    "\n",
    "forward_cls = {}\n",
    "forward_cls[('G_B', 'G_B', 0, 0)] = mms[('G_E', 'G_E', 0, 0)] @ theory_cls[('G_B', 'G_B', 0, 0)] + mms[('G_B', 'G_B', 0, 0)] @ theory_cls[('G_E', 'G_E', 0, 0)]\n",
    "forward_cls[('G_E', 'G_E', 0, 0)] = mms[('G_E', 'G_E', 0, 0)] @ theory_cls[('G_E', 'G_E', 0, 0)] + mms[('G_B', 'G_B', 0, 0)] @ theory_cls[('G_B', 'G_B', 0, 0)]\n",
    "forward_cls[('P', 'P', 0, 0)] = mms[('P', 'P', 0, 0)] @ theory_cls[('P', 'P', 0, 0)]"
   ]
  },
  {
   "cell_type": "code",
   "execution_count": null,
   "id": "70fb8ab3",
   "metadata": {},
   "outputs": [],
   "source": [
    "figure, axis = plt.subplots(1, 3, figsize=(5*3, 5))\n",
    "for i, s1 in enumerate(fields_a):\n",
    "    proposed_key = (s1, s1, 0, 0)\n",
    "    print(proposed_key) \n",
    "    t = forward_cls[proposed_key]\n",
    "    d = data_cls[proposed_key]\n",
    "\n",
    "    axis[i].plot(q, B @ t, 'g-', label=\"Forward Theory\")\n",
    "    axis[i].plot(q, B @ d, 'bo--', alpha=0.6, label=\"Data\")\n",
    "    axis[i].set_xscale('log')\n",
    "    axis[i].set_yscale('log')\n",
    "    axis[i].set_title(f\"{s1}x{s1}\")\n",
    "    axis[i].set_xlabel(r\"$\\ell$\")\n",
    "    if i == 0:\n",
    "        axis[i].set_ylabel(r\"$\\tilde{C}_\\ell$\")\n",
    "    axis[i].grid()\n",
    "    axis[i].legend()\n",
    "plt.show()"
   ]
  },
  {
   "cell_type": "markdown",
   "id": "07885b3c",
   "metadata": {},
   "source": [
    "## Master Model\n",
    "\n",
    "Similarly, the master method is equivalent to considering $A = (B M B^T)^{-1} B$.\n",
    "Since the the initial steps of computing the master method $C_\\ell$'s are the same as the forward method we reuse the previously computed $C_\\ell$'s. However, we still need to apply the inverse binning matrix to get the final $C_\\ell$'s.\n",
    "Because we originally considered a non-square mixing matrix, we first crop the mixing matrix to the size of the data $C_\\ell$'s we then bin. This operation is done in one single operation by applying the matrix $B_2$. \n",
    "\n",
    "Since the mixing of the E and B modes is already accounted in the first step when multiplying by the mixing matrix, we do not need to consider the mixing when inverting the binned mixing matrix."
   ]
  },
  {
   "cell_type": "code",
   "execution_count": null,
   "id": "d03d061d",
   "metadata": {},
   "outputs": [],
   "source": [
    "# bin mixing matrix\n",
    "mms_qq = {}\n",
    "for keys in list(mms.keys()):\n",
    "    mms_qq[keys] = B @ mms[keys] @ B2.T"
   ]
  },
  {
   "cell_type": "code",
   "execution_count": null,
   "id": "748ab1fc",
   "metadata": {},
   "outputs": [],
   "source": [
    "master_method = \"naive_inverse\"\n",
    "if master_method == \"full_inverse\":\n",
    "    master_data_cls = {}\n",
    "    m_qq_PP = mms_qq[('P', 'P', 0, 0)]\n",
    "    inv_m_qq_PP = np.linalg.inv(m_qq_PP)\n",
    "    master_data_cls[('P', 'P', 0, 0)] = inv_m_qq_PP @ (B @ data_cls[('P', 'P', 0, 0)])\n",
    "\n",
    "    m_qq_EE = np.hstack([mms_qq[('G_E', 'G_E', 0, 0)], mms_qq[('G_E', 'G_B', 0, 0)]])\n",
    "    m_qq_BB = np.hstack([mms_qq[('G_E', 'G_B', 0, 0)], mms_qq[('G_B', 'G_B', 0, 0)]])\n",
    "    m_qq_EE_BB = np.vstack([m_qq_EE, m_qq_BB])\n",
    "    inv_m_qq_EE_BB = np.linalg.pinv(m_qq_EE_BB)\n",
    "\n",
    "    cq_EE_BB = np.hstack([B @ data_cls[('G_E', 'G_E', 0, 0)], B @ data_cls[('G_B', 'G_B', 0, 0)]])\n",
    "    cq_EE_BB = inv_m_qq_EE_BB @ cq_EE_BB\n",
    "    master_data_cls[('G_E', 'G_E', 0, 0)] = cq_EE_BB[bin_num:]\n",
    "    master_data_cls[('G_B', 'G_B', 0, 0)] = cq_EE_BB[:bin_num]\n",
    "\n",
    "    master_theory_cls = {}\n",
    "    master_theory_cls[('P', 'P', 0, 0)] = inv_m_qq_PP @ (B @ forward_cls[('P', 'P', 0, 0)])\n",
    "    cq_EE_BB = np.hstack([B @ forward_cls[('G_E', 'G_E', 0, 0)], B @ forward_cls[('G_B', 'G_B', 0, 0)]])\n",
    "    cq_EE_BB = inv_m_qq_EE_BB @ cq_EE_BB\n",
    "    master_theory_cls[('G_E', 'G_E', 0, 0)] = cq_EE_BB[bin_num:]\n",
    "    master_theory_cls[('G_B', 'G_B', 0, 0)] = cq_EE_BB[:bin_num]\n",
    "\n",
    "if master_method == \"naive_inverse\":\n",
    "    master_data_cls = {}\n",
    "    for key in list(forward_cls.keys()):\n",
    "        m_qq = mms_qq[key]\n",
    "        inv_m_qq = np.linalg.inv(m_qq)\n",
    "        master_data_cls[key] = inv_m_qq @ (B @ data_cls[key])\n",
    "\n",
    "    master_theory_cls = {}\n",
    "    for key in list(forward_cls.keys()):\n",
    "        m_qq = mms_qq[key]\n",
    "        inv_m_qq = np.linalg.inv(m_qq)\n",
    "        master_theory_cls[key] = inv_m_qq @ (B @ forward_cls[key])"
   ]
  },
  {
   "cell_type": "code",
   "execution_count": null,
   "id": "44bbdcc6",
   "metadata": {},
   "outputs": [],
   "source": [
    "figure, axis = plt.subplots(1, 3, figsize=(5*3, 5))\n",
    "for i, s1 in enumerate(fields_a):\n",
    "    proposed_key = (s1, s1, 0, 0)\n",
    "    print(proposed_key) \n",
    "    t = master_theory_cls[proposed_key]\n",
    "    d = master_data_cls[proposed_key]\n",
    "\n",
    "    axis[i].plot(q, t, 'g-', label=\"Master Theory\")\n",
    "    axis[i].plot(q, d, 'bo--', alpha=0.6, label=\"Master Data\")\n",
    "    axis[i].set_xscale('log')\n",
    "    axis[i].set_yscale('log')\n",
    "    axis[i].set_title(f\"{s1}x{s1}\")\n",
    "    axis[i].set_xlabel(r\"$\\ell$\")\n",
    "    if i == 0:\n",
    "        axis[i].set_ylabel(r\"$\\tilde{C}_\\ell$\")\n",
    "    axis[i].grid()\n",
    "    axis[i].legend()\n",
    "plt.show()"
   ]
  },
  {
   "cell_type": "markdown",
   "id": "8c11e091",
   "metadata": {},
   "source": [
    "## Direct Inversion\n",
    "\n",
    "The direct inversion method is equivalent to considering $A = B M^{-1}$.\n",
    "\n",
    "To account for the E-B mixing, we compute the full sky $C_\\ell^{E/B}$  as:\n",
    "$$  \\begin{bmatrix} \n",
    " \\langle C_l^{E\\!E'} \\rangle \\\\ \\langle C_l^{B\\!B'} \\rangle  \\end{bmatrix}\n",
    " =\n",
    "\\begin{bmatrix}\n",
    "   M^{E\\!E E'\\!E'} & M^{B\\!B E'\\!E'} \\\\\n",
    "   M^{E\\!E B'\\!B'} & M^{B\\!B B'\\!B'} \n",
    "\\end{bmatrix}^{-1}\n",
    "\\begin{bmatrix} \n",
    "    \\langle \\tilde{C}_l^{E\\!E'} \\rangle \\\\ \\langle \\tilde{C}_l^{B\\!B'} \\rangle \n",
    "\\end{bmatrix}\n",
    "$$"
   ]
  },
  {
   "cell_type": "code",
   "execution_count": null,
   "id": "2992e9c6",
   "metadata": {},
   "outputs": [],
   "source": [
    "inversion_cls = {}\n",
    "cl_EE_BB = np.append(data_cls[('G_E', 'G_E', 0, 0)], data_cls[('G_B', 'G_B', 0, 0)])\n",
    "M_EE = np.hstack([mms[('G_E', 'G_E', 0, 0)], mms[('G_E', 'G_B', 0, 0)]])\n",
    "M_BB = np.hstack([mms[('G_E', 'G_B', 0, 0)], mms[('G_B', 'G_B', 0, 0)]])\n",
    "M_EE_BB = np.vstack([M_EE, M_BB])\n",
    "inv_M_EE_BB = np.linalg.pinv(M_EE_BB)\n",
    "cl_EE_BB = inv_M_EE_BB @ cl_EE_BB\n",
    "inversion_cls[('G_E', 'G_E', 0, 0)] = cl_EE_BB[2*lmax+1:]\n",
    "inversion_cls[('G_B', 'G_B', 0, 0)] = cl_EE_BB[:2*lmax+1]\n",
    "inversion_cls[('P', 'P', 0, 0)]     = np.linalg.pinv(mms[('P', 'P', 0, 0)]) @ data_cls[('P', 'P', 0, 0)]"
   ]
  },
  {
   "cell_type": "code",
   "execution_count": null,
   "id": "db5cc00d",
   "metadata": {},
   "outputs": [],
   "source": [
    "figure, axis = plt.subplots(1, 3, figsize=(5*3, 5))\n",
    "for i, s1 in enumerate(fields_a):\n",
    "    proposed_key = (s1, s1, 0, 0)\n",
    "    print(proposed_key) \n",
    "    t = theory_cls[proposed_key]\n",
    "    d = inversion_cls[proposed_key]\n",
    "\n",
    "    axis[i].plot(q, B2 @ t, 'g-', label=\"Theory\")\n",
    "    axis[i].plot(q, B2 @ d, 'bo--', alpha=0.6, label=\"Inversion Data\")\n",
    "    axis[i].set_xscale('log')\n",
    "    axis[i].set_yscale('log')\n",
    "    axis[i].set_title(f\"{s1}x{s1}\")\n",
    "    axis[i].set_xlabel(r\"$\\ell$\")\n",
    "    if i == 0:\n",
    "        axis[i].set_ylabel(r\"$C_\\ell$\")\n",
    "    axis[i].grid()\n",
    "    axis[i].legend()\n",
    "plt.show()"
   ]
  },
  {
   "cell_type": "markdown",
   "id": "86fd3caf",
   "metadata": {},
   "source": [
    "## Polspice\n",
    "\n",
    "In the Polspice method we account for the effect of the mask in real space. \n",
    "Let's start laying down some definitions. Given a complex field:\n",
    "$$ \\gamma(n) = (Q \\pm i U)(n) = \\sum_{l m} (E_{l m} \\mp i B_{l m}) _{\\mp 2} Y_{l m}(n)  $$\n",
    "we can define the correlators:\n",
    "$$ \\xi_{+} = \\langle \\gamma^* \\gamma\\rangle  \\hspace{6pt}\\rm{and}\\hspace{6pt} \\xi_{-} = \\langle \\gamma \\gamma \\rangle $$\n",
    "Then the associated parital sky correlatiors are given by:\n",
    "$$ \\xi_{\\pm}(\\theta) = \\frac{\\tilde{\\xi}_{\\pm}(\\theta)}{\\xi^{ww'}(\\theta)} $$\n",
    "which we can also express in terms of linear combinations of the measured $E$ and $B$ angular power spectra:\n",
    "$$  \\tilde{\\xi}_{\\pm}(\\theta) = \\sum_l \\frac{2l+1}{4\\pi}(\\tilde{C}^{EE}_l \\pm  \\tilde{C}^{BB}_l) d^l_{2 \\pm 2}(\\theta) $$\n",
    "\n",
    "The PolSpice method undoes the $E-B$ coupling by defining a correlator akin to $\\xi_{+}(\\theta)$ but with the Wigner matrix of a spin -2 field:\n",
    "$$\n",
    "\\xi_{\\rm dec}(\\theta) = \\frac{\\tilde{\\xi}_{\\rm dec}(\\theta)}{\\xi^{ww'}(\\theta)} = \\nonumber \\\\ \n",
    "= \\frac{1}{\\xi^{ww'}(\\theta)} \\sum_l \\frac{2l+1}{4\\pi}(\\tilde{C}^{EE}_l +  \\tilde{C}^{BB}_l) d^l_{2 - 2}(\\theta)\n",
    "$$\n",
    "\n",
    "Then one can construct a estimator for the full sky angular correlation functions by combining the correlation function and inverting the SWSH transform:\n",
    "$$\n",
    "C^{EE}_l = 2\\pi \\int \\frac{1}{2}[\\xi_{\\rm dec}(\\theta) + \\xi_{-}(\\theta)] d^{l}_{2-2}(\\theta) {\\rm d}\\!\\cos{\\theta} $$\n",
    "$$\n",
    "C^{BB}_l = 2\\pi \\int \\frac{1}{2}[\\xi_{\\rm dec}(\\theta) - \\xi_{-}(\\theta)] d^{l}_{2-2}(\\theta) {\\rm d}\\!\\cos{\\theta} $$"
   ]
  },
  {
   "cell_type": "code",
   "execution_count": null,
   "id": "456bb63a",
   "metadata": {},
   "outputs": [],
   "source": [
    "import transformcl\n",
    "import wigner"
   ]
  },
  {
   "cell_type": "code",
   "execution_count": null,
   "id": "e48fbcf7",
   "metadata": {},
   "outputs": [],
   "source": [
    "def cl2corr_mat(theta, lmax=None, spin1=0, spin2=0):\n",
    "    if lmax is None:\n",
    "        lmax = len(theta) - 1\n",
    "    m = np.empty((len(theta), lmax + 1))\n",
    "    f = (2 * np.arange(lmax + 1) + 1) / (4 * np.pi)\n",
    "    for i, t in enumerate(theta):\n",
    "        m[i] = f * wigner.wigner_dl(0, lmax, spin1, spin2, t)\n",
    "    return m\n",
    "\n",
    "def corr2cl_solve(mat, corr, spin1=0, spin2=0):\n",
    "    k = max(abs(spin1), abs(spin2))\n",
    "    cut_mat = mat[:, k:]\n",
    "    return np.pad(np.linalg.solve(cut_mat, corr), (k, 0))\n",
    "\n",
    "def corr2cl_lstsq(mat, corr):\n",
    "    return np.linalg.lstsq(mat, corr, None)[0]\n",
    "\n",
    "def apodize(x, x0=-2, k=50):\n",
    "    return (1+np.exp(-k*(x-x0)))"
   ]
  },
  {
   "cell_type": "code",
   "execution_count": null,
   "id": "d0d0201b",
   "metadata": {},
   "outputs": [],
   "source": [
    "Fm = transformcl.cltocorr(mask_cls[('V', 'V', 0, 0)][:1001])\n",
    "Fm_full = transformcl.cltocorr(mask_cls[('V', 'V', 0, 0)])\n",
    "Fm_apo = (Fm* apodize(np.log10(np.abs(Fm))))\n",
    "Fm_apo_full = (Fm_full * apodize(np.log10(np.abs(Fm_full))))"
   ]
  },
  {
   "cell_type": "code",
   "execution_count": null,
   "id": "74edd9b2",
   "metadata": {},
   "outputs": [],
   "source": [
    "cl_PP =  transformcl.corrtocl(transformcl.cltocorr(data_cls[('P', 'P', 0, 0)])/(Fm_apo))\n",
    "\n",
    "th = transformcl.theta(2*lmax+1)\n",
    "mat_p = cl2corr_mat(th, lmax, 2, 2)\n",
    "mat_m = cl2corr_mat(th, lmax, 2, -2)\n",
    "cl_EE_p_BB = data_cls[('G_E', 'G_E', 0, 0)] + data_cls[('G_B', 'G_B', 0, 0)]\n",
    "cl_EE_m_BB = data_cls[('G_E', 'G_E', 0, 0)] - data_cls[('G_B', 'G_B', 0, 0)]\n",
    "\n",
    "xi_m = mat_m @ cl_EE_m_BB\n",
    "xi_p = mat_p @ cl_EE_p_BB\n",
    "xi   = mat_m @ cl_EE_p_BB\n",
    "pols_Cl_BB = corr2cl_lstsq(mat_m, 0.5*(xi-xi_m)/Fm_apo_full)\n",
    "pols_Cl_EE = corr2cl_lstsq(mat_m, 0.5*(xi+xi_m)/Fm_apo_full)\n",
    "\n",
    "polspice_cls = {}\n",
    "polspice_cls[('G_B', 'G_B', 0, 0)] = pols_Cl_BB\n",
    "polspice_cls[('G_E', 'G_E', 0, 0)] = pols_Cl_EE\n",
    "polspice_cls[('P', 'P', 0, 0)]     = cl_PP"
   ]
  },
  {
   "cell_type": "markdown",
   "id": "177a2ddc",
   "metadata": {},
   "source": [
    "However, this just one choice of an estimator for the decoupled angular power spectra. In order to understand this estimators better it is useful to inspect the $C^{BB}_l$:\n",
    "$$\n",
    "C^{BB}_l = 2\\pi \\int \\frac{1}{2\\xi^{ww'}(\\theta)}[\\left(\\sum_l \\frac{2l+1}{4\\pi}(\\tilde{C}^{EE}_l +  \\tilde{C}^{BB}_l) d^l_{2 - 2}(\\theta)\\right) \\nonumber \\\\ - \\left(\\sum_l \\frac{2l+1}{4\\pi}(\\tilde{C}^{EE}_l - \\tilde{C}^{BB}_l) d^l_{2 -2}(\\theta)\\right)] d^{l}_{2-2}(\\theta) {\\rm d}\\!\\cos{\\theta}  =  \\, \\nonumber \\\\\n",
    "= 2\\pi \\int \\frac{1}{\\xi^{ww'}(\\theta)} \\left(\\sum_l \\frac{2l+1}{4\\pi} \\tilde{C}^{BB}_l d^l_{2 - 2}(\\theta)\\right) d^{l}_{2-2}(\\theta) {\\rm d}\\!\\cos{\\theta} = \\nonumber \\\\ \n",
    "= 2\\pi \\int \\frac{\\xi^{BB}(\\theta)}{\\tilde{\\xi}^{ww'}(\\theta)}  d^{l}_{2-2}(\\theta) {\\rm d}\\!\\cos{\\theta} \\, . \n",
    "$$\n",
    "\n",
    "Thus, we can see that no E-modes are subtracted from $C^{BB}_l$ this approach. We can perform a similar expansion for the E-mode expression. First allows us to write $\\tilde{\\xi}(\\theta)$ in terms of $\\tilde{\\xi}_{-}(\\theta)$. This can be done by adding and subtracting $\\tilde{C}^{BB}_l$: \n",
    "$$\n",
    "\\tilde{\\xi}_{\\rm dec}(\\theta) = \\tilde{\\xi}_{-}(\\theta) + 2 \\sum_l \\frac{2l+1}{4\\pi} \\tilde{C}^{BB}_l d^l_{2-2}(\\theta) \n",
    "$$\n",
    "Now, plugging these two equations into each other:\n",
    "$$\n",
    "C^{EE}_l = \\nonumber \\\\  \n",
    "2\\pi \\int \\frac{1}{\\xi^{ww'}(\\theta)}[\\tilde{\\xi}_{-}(\\theta) + \\left(\\sum_l \\frac{2l+1}{4\\pi}\\tilde{C}^{BB}_l d^l_{2 -2}(\\theta)\\right)] d^{l}_{2-2}(\\theta) {\\rm d}\\!\\cos{\\theta} \\,  \\nonumber \\\\\n",
    "= 2\\pi \\int \\xi_{-}(\\theta) d^{l}_{2-2} {\\rm d}\\!\\cos{\\theta} + C_l^{BB}\n",
    "$$\n",
    "which shows the expected mixing.\n",
    "\n",
    "Alternatively, we could construct a series of estimators which exhibit mixing for both $C^{EE}_l$ and $C^{BB}_l$. In order to do so let us define the angular power spectra:\n",
    "$$\n",
    "C_l^{\\pm} = C_l^{EE} \\pm C_l^{BB} = \\nonumber \\\\\n",
    "= 2 \\pi \\int \\frac{1}{\\xi^{ww'}(\\theta)} \\left( \\sum_l \\frac{2l+1}{4\\pi} (\\tilde{C}_l^E \\pm \\tilde{C}_l^B) d^l{2\\pm2}\\right) d^l_{2\\pm2} {\\rm d}\\cos{\\theta} \n",
    "$$\n",
    "Then the respective estimators for the uncoupled E and B fields can be obtained by considering:\n",
    "$$\n",
    "C_l^{EE} = \\frac{1}{2}(C_l^{+} + C_l^{-}) \\hspace{6pt}\\rm{and}\\hspace{6pt} C_l^{BB} = \\frac{1}{2}(C_l^{+} - C_l^{-})\n",
    "$$"
   ]
  },
  {
   "cell_type": "code",
   "execution_count": null,
   "id": "88361467",
   "metadata": {},
   "outputs": [],
   "source": [
    "cl_p = corr2cl_lstsq(mat_p, (1/Fm_apo_full) * (mat_p @ cl_EE_p_BB))\n",
    "cl_m = corr2cl_lstsq(mat_m, (1/Fm_apo_full) * (mat_m @ cl_EE_m_BB))\n",
    "npols_Cl_EE = 0.5*(cl_p + cl_m)\n",
    "npols_Cl_BB = 0.5*(cl_p - cl_m)\n",
    "\n",
    "naive_polspice_cls = {}\n",
    "naive_polspice_cls[('G_B', 'G_B', 0, 0)] = npols_Cl_BB\n",
    "naive_polspice_cls[('G_E', 'G_E', 0, 0)] = npols_Cl_EE\n",
    "naive_polspice_cls[('P', 'P', 0, 0)]     = cl_PP"
   ]
  },
  {
   "cell_type": "code",
   "execution_count": null,
   "id": "849181b2",
   "metadata": {},
   "outputs": [],
   "source": [
    "figure, axis = plt.subplots(1, 3, figsize=(5*3, 5))\n",
    "for i, s1 in enumerate(fields_a):\n",
    "    proposed_key = (s1, s1, 0, 0)\n",
    "    print(proposed_key) \n",
    "    t = theory_cls[proposed_key]\n",
    "    d_p = polspice_cls[proposed_key]\n",
    "    d_np = naive_polspice_cls[proposed_key]\n",
    "\n",
    "    axis[i].plot(q, B @ d_p, 'bo-', alpha=0.3, label=\"PolSpice\")\n",
    "    axis[i].plot(q, B @ d_np, 'ro-', alpha=0.3, label=\"Naive PolSpice\")\n",
    "    axis[i].plot(q, B2 @ t, 'g-', label=\"theory\")\n",
    "    axis[i].set_xscale('log')\n",
    "    axis[i].set_yscale('log')\n",
    "    axis[i].set_title(f\"{s1}x{s1}\")\n",
    "    axis[i].set_xlabel(r\"$\\ell$\")\n",
    "    if i == 0:\n",
    "        axis[i].set_ylabel(r\"$C_\\ell$\")\n",
    "    axis[i].grid()\n",
    "    axis[i].legend()\n",
    "plt.show()"
   ]
  },
  {
   "cell_type": "code",
   "execution_count": null,
   "id": "9ecbad7c",
   "metadata": {},
   "outputs": [],
   "source": []
  }
 ],
 "metadata": {
  "kernelspec": {
   "display_name": "gitd",
   "language": "python",
   "name": "python3"
  },
  "language_info": {
   "codemirror_mode": {
    "name": "ipython",
    "version": 3
   },
   "file_extension": ".py",
   "mimetype": "text/x-python",
   "name": "python",
   "nbconvert_exporter": "python",
   "pygments_lexer": "ipython3",
   "version": "3.12.7"
  }
 },
 "nbformat": 4,
 "nbformat_minor": 5
}
